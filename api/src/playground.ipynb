{
 "cells": [
  {
   "metadata": {},
   "cell_type": "markdown",
   "source": "## Install app requirements",
   "id": "cb748af2228b7fec"
  },
  {
   "metadata": {
    "collapsed": true
   },
   "cell_type": "code",
   "source": [
    "!pip install --upgrade pip\n",
    "!pip install -r requirements.txt\n",
    "!source .venv/bin/activate"
   ],
   "id": "1477e7c4849d854f",
   "outputs": [],
   "execution_count": null
  },
  {
   "metadata": {},
   "cell_type": "markdown",
   "source": "___",
   "id": "db658ab34da62a92"
  },
  {
   "metadata": {},
   "cell_type": "markdown",
   "source": "## Connect to Spark Cluster using SparkConnect",
   "id": "22672601f232d3c6"
  },
  {
   "metadata": {},
   "cell_type": "markdown",
   "source": "### Load environment variables",
   "id": "9409de3c9fc686bb"
  },
  {
   "metadata": {
    "ExecuteTime": {
     "end_time": "2025-09-05T20:44:25.697331Z",
     "start_time": "2025-09-05T20:44:25.690880Z"
    }
   },
   "cell_type": "code",
   "source": [
    "from commons.constants import *\n",
    "from analytics.sc_session import get_session\n",
    "\n",
    "session = get_session()\n",
    "session"
   ],
   "id": "51b235d562d60ca",
   "outputs": [
    {
     "data": {
      "text/plain": [
       "<pyspark.sql.connect.session.SparkSession at 0x10599fb50>"
      ]
     },
     "execution_count": 7,
     "metadata": {},
     "output_type": "execute_result"
    }
   ],
   "execution_count": 7
  },
  {
   "metadata": {
    "ExecuteTime": {
     "end_time": "2025-09-05T20:44:29.849056Z",
     "start_time": "2025-09-05T20:44:29.678111Z"
    }
   },
   "cell_type": "code",
   "source": [
    "from analytics.sc_data import load_collection\n",
    "products_df = load_collection(session, MDB_PRODUCTS_COLLECTION)\n",
    "print(f\"\"\"\n",
    "    Hay {products_df.count()} productos en la colección {MDB_PRODUCTS_COLLECTION}\n",
    "\"\"\")"
   ],
   "id": "ac5f4a5e210d369d",
   "outputs": [
    {
     "name": "stdout",
     "output_type": "stream",
     "text": [
      "\n",
      "    Hay 2040 productos en la colección mbdtfm_magento_catalog_products_mview\n",
      "\n"
     ]
    }
   ],
   "execution_count": 8
  },
  {
   "metadata": {
    "ExecuteTime": {
     "end_time": "2025-09-05T20:28:38.060353Z",
     "start_time": "2025-09-05T20:28:29.885613Z"
    }
   },
   "cell_type": "code",
   "source": [
    "from analytics.sc_embeddings import create_product_embeddings_w2v\n",
    "create_product_embeddings_w2v(session)"
   ],
   "id": "24a8f9637debb8de",
   "outputs": [
    {
     "name": "stdout",
     "output_type": "stream",
     "text": [
      "Successfully wrote embeddings to MongoDB into mbdtfm_magento_catalog_products_embeddings\n"
     ]
    }
   ],
   "execution_count": 2
  },
  {
   "metadata": {
    "ExecuteTime": {
     "end_time": "2025-09-05T20:44:33.033803Z",
     "start_time": "2025-09-05T20:44:32.919174Z"
    }
   },
   "cell_type": "code",
   "source": [
    "embeds_df = load_collection(session, MDB_EMBEDDINGS_COLLECTION)\n",
    "print(f\"\"\"\n",
    "    Hay {embeds_df.count()} products en la colección {MDB_EMBEDDINGS_COLLECTION}\n",
    "\"\"\")"
   ],
   "id": "9f31ce490f9f2337",
   "outputs": [
    {
     "name": "stdout",
     "output_type": "stream",
     "text": [
      "\n",
      "    Hay 2040 products en la colección mbdtfm_magento_catalog_products_embeddings\n",
      "\n"
     ]
    }
   ],
   "execution_count": 9
  },
  {
   "metadata": {},
   "cell_type": "code",
   "source": "session.stop()",
   "id": "8a81f1f68390ee16",
   "outputs": [],
   "execution_count": null
  }
 ],
 "metadata": {
  "kernelspec": {
   "display_name": "Python 3 (ipykernel)",
   "language": "python",
   "name": "python3"
  },
  "language_info": {
   "codemirror_mode": {
    "name": "ipython",
    "version": 2
   },
   "file_extension": ".py",
   "mimetype": "text/x-python",
   "name": "python",
   "nbconvert_exporter": "python",
   "pygments_lexer": "ipython2",
   "version": "2.7.6"
  }
 },
 "nbformat": 4,
 "nbformat_minor": 5
}
