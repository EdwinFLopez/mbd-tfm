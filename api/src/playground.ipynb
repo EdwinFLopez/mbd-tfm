{
 "cells": [
  {
   "metadata": {},
   "cell_type": "markdown",
   "source": "## Install app requirements",
   "id": "cb748af2228b7fec"
  },
  {
   "metadata": {
    "collapsed": true
   },
   "cell_type": "code",
   "source": [
    "!pip install --upgrade pip\n",
    "!pip install -r requirements.txt\n",
    "!source .venv/bin/activate"
   ],
   "id": "1477e7c4849d854f",
   "outputs": [],
   "execution_count": null
  },
  {
   "metadata": {},
   "cell_type": "markdown",
   "source": "___",
   "id": "db658ab34da62a92"
  },
  {
   "metadata": {},
   "cell_type": "markdown",
   "source": "### Load environment variables",
   "id": "c99c4241b7c986d8"
  },
  {
   "metadata": {},
   "cell_type": "code",
   "source": [
    "from commons.constants import *\n",
    "products_url = MDB_PRODUCTS_COLLECTION_URL\n",
    "embeddings_url = MDB_EMBEDDINGS_COLLECTION_URL\n",
    "products_collection = MDB_PRODUCTS_COLLECTION\n",
    "embeddings_collection = MDB_EMBEDDINGS_COLLECTION"
   ],
   "id": "33af75b69bb6ed68",
   "outputs": [],
   "execution_count": null
  },
  {
   "metadata": {},
   "cell_type": "markdown",
   "source": "## Connect to Spark Cluster using SparkConnect",
   "id": "22672601f232d3c6"
  },
  {
   "metadata": {},
   "cell_type": "code",
   "source": [
    "from analytics.sc_session import get_session\n",
    "session = get_session()\n",
    "session"
   ],
   "id": "51b235d562d60ca",
   "outputs": [],
   "execution_count": null
  },
  {
   "metadata": {},
   "cell_type": "code",
   "source": [
    "from analytics.sc_embeddings_w2v import create_product_embeddings_w2v\n",
    "create_product_embeddings_w2v(session)"
   ],
   "id": "d30e8f29b624a478",
   "outputs": [],
   "execution_count": null
  }
 ],
 "metadata": {
  "kernelspec": {
   "display_name": "Python 3 (ipykernel)",
   "language": "python",
   "name": "python3"
  },
  "language_info": {
   "codemirror_mode": {
    "name": "ipython",
    "version": 2
   },
   "file_extension": ".py",
   "mimetype": "text/x-python",
   "name": "python",
   "nbconvert_exporter": "python",
   "pygments_lexer": "ipython2",
   "version": "2.7.6"
  }
 },
 "nbformat": 4,
 "nbformat_minor": 5
}
